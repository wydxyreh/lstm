{
 "cells": [
  {
   "cell_type": "markdown",
   "metadata": {},
   "source": [
    "### 第1步：导入库"
   ]
  },
  {
   "cell_type": "code",
   "execution_count": 56,
   "metadata": {},
   "outputs": [],
   "source": [
    "import pandas as pd\n",
    "import numpy as np\n",
    "import matplotlib.pyplot as plt\n",
    "from sklearn.preprocessing import MinMaxScaler\n",
    "from keras.models import Sequential\n",
    "from keras.layers import Dense, LSTM, Dropout, GRU\n",
    "from keras.optimizers import SGD"
   ]
  },
  {
   "cell_type": "markdown",
   "metadata": {},
   "source": [
    "### 第2步：加载历史数据文件"
   ]
  },
  {
   "cell_type": "code",
   "execution_count": 2,
   "metadata": {},
   "outputs": [],
   "source": [
    "dataset = pd.read_csv(\"datasets_8388_11883_IBM_2006-01-01_to_2018-01-01.csv\", \n",
    "                       index_col='Date', parse_dates=['Date'])"
   ]
  },
  {
   "cell_type": "code",
   "execution_count": 3,
   "metadata": {},
   "outputs": [
    {
     "data": {
      "text/html": [
       "<div>\n",
       "<style scoped>\n",
       "    .dataframe tbody tr th:only-of-type {\n",
       "        vertical-align: middle;\n",
       "    }\n",
       "\n",
       "    .dataframe tbody tr th {\n",
       "        vertical-align: top;\n",
       "    }\n",
       "\n",
       "    .dataframe thead th {\n",
       "        text-align: right;\n",
       "    }\n",
       "</style>\n",
       "<table border=\"1\" class=\"dataframe\">\n",
       "  <thead>\n",
       "    <tr style=\"text-align: right;\">\n",
       "      <th></th>\n",
       "      <th>Open</th>\n",
       "      <th>High</th>\n",
       "      <th>Low</th>\n",
       "      <th>Close</th>\n",
       "      <th>Volume</th>\n",
       "      <th>Name</th>\n",
       "    </tr>\n",
       "    <tr>\n",
       "      <th>Date</th>\n",
       "      <th></th>\n",
       "      <th></th>\n",
       "      <th></th>\n",
       "      <th></th>\n",
       "      <th></th>\n",
       "      <th></th>\n",
       "    </tr>\n",
       "  </thead>\n",
       "  <tbody>\n",
       "    <tr>\n",
       "      <th>2006-01-03</th>\n",
       "      <td>82.45</td>\n",
       "      <td>82.55</td>\n",
       "      <td>80.81</td>\n",
       "      <td>82.06</td>\n",
       "      <td>11715200</td>\n",
       "      <td>IBM</td>\n",
       "    </tr>\n",
       "    <tr>\n",
       "      <th>2006-01-04</th>\n",
       "      <td>82.20</td>\n",
       "      <td>82.50</td>\n",
       "      <td>81.33</td>\n",
       "      <td>81.95</td>\n",
       "      <td>9840600</td>\n",
       "      <td>IBM</td>\n",
       "    </tr>\n",
       "    <tr>\n",
       "      <th>2006-01-05</th>\n",
       "      <td>81.40</td>\n",
       "      <td>82.90</td>\n",
       "      <td>81.00</td>\n",
       "      <td>82.50</td>\n",
       "      <td>7213500</td>\n",
       "      <td>IBM</td>\n",
       "    </tr>\n",
       "    <tr>\n",
       "      <th>2006-01-06</th>\n",
       "      <td>83.95</td>\n",
       "      <td>85.03</td>\n",
       "      <td>83.41</td>\n",
       "      <td>84.95</td>\n",
       "      <td>8197400</td>\n",
       "      <td>IBM</td>\n",
       "    </tr>\n",
       "    <tr>\n",
       "      <th>2006-01-09</th>\n",
       "      <td>84.10</td>\n",
       "      <td>84.25</td>\n",
       "      <td>83.38</td>\n",
       "      <td>83.73</td>\n",
       "      <td>6858200</td>\n",
       "      <td>IBM</td>\n",
       "    </tr>\n",
       "  </tbody>\n",
       "</table>\n",
       "</div>"
      ],
      "text/plain": [
       "             Open   High    Low  Close    Volume Name\n",
       "Date                                                 \n",
       "2006-01-03  82.45  82.55  80.81  82.06  11715200  IBM\n",
       "2006-01-04  82.20  82.50  81.33  81.95   9840600  IBM\n",
       "2006-01-05  81.40  82.90  81.00  82.50   7213500  IBM\n",
       "2006-01-06  83.95  85.03  83.41  84.95   8197400  IBM\n",
       "2006-01-09  84.10  84.25  83.38  83.73   6858200  IBM"
      ]
     },
     "execution_count": 3,
     "metadata": {},
     "output_type": "execute_result"
    }
   ],
   "source": [
    "dataset.head()"
   ]
  },
  {
   "cell_type": "code",
   "execution_count": 4,
   "metadata": {},
   "outputs": [
    {
     "data": {
      "text/plain": [
       "(3020, 6)"
      ]
     },
     "execution_count": 4,
     "metadata": {},
     "output_type": "execute_result"
    }
   ],
   "source": [
    "dataset.shape"
   ]
  },
  {
   "cell_type": "code",
   "execution_count": 51,
   "metadata": {},
   "outputs": [],
   "source": [
    "# 检查数据是否有缺失值\n",
    "train_set = dataset[:'2016'].iloc[:, 1:2].values # 训练集，获取到第一列的数据\n",
    "test_set = dataset['2017':].iloc[:,1:2].values # 测试集，获取到第一列的数据"
   ]
  },
  {
   "cell_type": "code",
   "execution_count": 52,
   "metadata": {},
   "outputs": [
    {
     "data": {
      "text/plain": [
       "(2769, 1)"
      ]
     },
     "execution_count": 52,
     "metadata": {},
     "output_type": "execute_result"
    }
   ],
   "source": [
    "train_set.shape"
   ]
  },
  {
   "cell_type": "code",
   "execution_count": 53,
   "metadata": {},
   "outputs": [
    {
     "data": {
      "text/plain": [
       "(251, 1)"
      ]
     },
     "execution_count": 53,
     "metadata": {},
     "output_type": "execute_result"
    }
   ],
   "source": [
    "test_set.shape"
   ]
  },
  {
   "cell_type": "markdown",
   "metadata": {},
   "source": [
    "### 第3步：定义显示函数"
   ]
  },
  {
   "cell_type": "code",
   "execution_count": 49,
   "metadata": {},
   "outputs": [],
   "source": [
    "def plot_predictions(test_result, predict_restult):\n",
    "    \"\"\"\n",
    "    test_result: 真实值\n",
    "    predict_result: 预测值\n",
    "    \"\"\"\n",
    "    plt.plot(test_result, color='red', label='IBM True Stock Price')\n",
    "    plt.plot(predict_restult, color='blue', label=\"IMB prdicted Stock Price\")\n",
    "    plt.title(\"IBM Stock Price\")\n",
    "    plt.xlabel(\"Time\")\n",
    "    plt.ylabel(\"Stock Price\")\n",
    "    plt.legend() # 给图加上图例\n",
    "    plt.show()"
   ]
  },
  {
   "cell_type": "markdown",
   "metadata": {},
   "source": [
    "### 第4步：绘制训练集和测试集的数据"
   ]
  },
  {
   "cell_type": "code",
   "execution_count": 10,
   "metadata": {},
   "outputs": [
    {
     "data": {
      "image/png": "[encoded data removed]",
      "text/plain": [
       "<Figure size 1152x288 with 1 Axes>"
      ]
     },
     "metadata": {
      "needs_background": "light"
     },
     "output_type": "display_data"
    }
   ],
   "source": [
    "dataset['High'][:\"2016\"].plot(figsize=(16, 4), legend=True)\n",
    "dataset['High'][\"2017\":].plot(figsize=(16, 4), legend=True)\n",
    "plt.title(\"IBM Stock Price\")\n",
    "plt.legend(['Train set(before 2016)', 'Test set(after 2017)'])\n",
    "plt.show()"
   ]
  },
  {
   "cell_type": "code",
   "execution_count": 12,
   "metadata": {},
   "outputs": [],
   "source": [
    "# 正则化：将每一维的特征映射到指定的区间：【0，1】\n",
    "sc = MinMaxScaler(feature_range=[0, 1])\n",
    "train_set_scaled = sc.fit_transform(train_set)"
   ]
  },
  {
   "cell_type": "code",
   "execution_count": 13,
   "metadata": {},
   "outputs": [],
   "source": [
    "# 创建序列数据集（训练和测试）\n",
    "# 60个时间步为一个样本，1个输出\n",
    "X_train = []\n",
    "y_train = []\n",
    "for i in range(60, 2769):\n",
    "    X_train.append(train_set_scaled[i-60:i, 0]) \n",
    "    y_train.append(train_set_scaled[i, 0])\n",
    "\n",
    "X_train, y_train = np.array(X_train), np.array(y_train) # numpy类型变换"
   ]
  },
  {
   "cell_type": "code",
   "execution_count": 15,
   "metadata": {},
   "outputs": [
    {
     "data": {
      "text/plain": [
       "(2709, 60)"
      ]
     },
     "execution_count": 15,
     "metadata": {},
     "output_type": "execute_result"
    }
   ],
   "source": [
    "X_train.shape"
   ]
  },
  {
   "cell_type": "code",
   "execution_count": 16,
   "metadata": {},
   "outputs": [
    {
     "data": {
      "text/plain": [
       "array([0.06065089, 0.06029868, 0.06311637, 0.0781206 , 0.07262609,\n",
       "       0.07171034, 0.07657087, 0.07058326, 0.0669907 , 0.06494787,\n",
       "       0.075796  , 0.07361229, 0.06417301, 0.05621302, 0.05783319,\n",
       "       0.05409975, 0.05431107, 0.05515638, 0.05543815, 0.05677656,\n",
       "       0.05846717, 0.05388842, 0.04811214, 0.04233587, 0.04402649,\n",
       "       0.0490279 , 0.04832347, 0.05297267, 0.05614258, 0.05290223,\n",
       "       0.05325444, 0.04909834, 0.04994365, 0.04797126, 0.05431107,\n",
       "       0.05212736, 0.04726684, 0.04895745, 0.04656241, 0.04839391,\n",
       "       0.04416737, 0.0485348 , 0.04719639, 0.04825303, 0.05395886,\n",
       "       0.05663567, 0.05853762, 0.05959425, 0.06375035, 0.06917442,\n",
       "       0.06889265, 0.06670893, 0.06910397, 0.07783883, 0.07565511,\n",
       "       0.07276698, 0.06889265, 0.0656523 , 0.06656805, 0.06769513])"
      ]
     },
     "execution_count": 16,
     "metadata": {},
     "output_type": "execute_result"
    }
   ],
   "source": [
    "X_train[0]"
   ]
  },
  {
   "cell_type": "code",
   "execution_count": 17,
   "metadata": {},
   "outputs": [],
   "source": [
    "# LSTM的输入：(samples, sequence_length, features) \n",
    "# reshape: 训练集(2709,60)  ---> (2709, 60, 1)\n",
    "X_train = np.reshape(X_train, (X_train.shape[0], X_train.shape[1], 1)) "
   ]
  },
  {
   "cell_type": "code",
   "execution_count": 19,
   "metadata": {},
   "outputs": [
    {
     "data": {
      "text/plain": [
       "(2709, 60, 1)"
      ]
     },
     "execution_count": 19,
     "metadata": {},
     "output_type": "execute_result"
    }
   ],
   "source": [
    "X_train.shape"
   ]
  },
  {
   "cell_type": "markdown",
   "metadata": {},
   "source": [
    "### 搭建LSTM模型，进行训练和预测"
   ]
  },
  {
   "cell_type": "code",
   "execution_count": 21,
   "metadata": {},
   "outputs": [],
   "source": [
    "model = Sequential()\n",
    "# LSTM 第一层\n",
    "model.add(LSTM(128, return_sequences=True, input_shape=(X_train.shape[1], 1)))\n",
    "model.add(Dropout(0.2))\n",
    "\n",
    "# LSTM 第二层\n",
    "model.add(LSTM(128, return_sequences=True))\n",
    "model.add(Dropout(0.2))\n",
    "\n",
    "# LSTM 第三层\n",
    "model.add(LSTM(128))\n",
    "model.add(Dropout(0.2))\n",
    "\n",
    "# Dense层\n",
    "model.add(Dense(units=1))"
   ]
  },
  {
   "cell_type": "code",
   "execution_count": 22,
   "metadata": {},
   "outputs": [
    {
     "name": "stdout",
     "output_type": "stream",
     "text": [
      "Epoch 1/20\n",
      "85/85 [==============================] - 30s 357ms/step - loss: 0.0666\n",
      "Epoch 2/20\n",
      "85/85 [==============================] - 32s 372ms/step - loss: 0.0124\n",
      "Epoch 3/20\n",
      "85/85 [==============================] - 31s 370ms/step - loss: 0.0080\n",
      "Epoch 4/20\n",
      "85/85 [==============================] - 34s 399ms/step - loss: 0.0063\n",
      "Epoch 5/20\n",
      "85/85 [==============================] - 45s 527ms/step - loss: 0.0055\n",
      "Epoch 6/20\n",
      "85/85 [==============================] - 45s 532ms/step - loss: 0.0048\n",
      "Epoch 7/20\n",
      "85/85 [==============================] - 46s 543ms/step - loss: 0.0039\n",
      "Epoch 8/20\n",
      "85/85 [==============================] - 45s 530ms/step - loss: 0.0039\n",
      "Epoch 9/20\n",
      "85/85 [==============================] - 47s 551ms/step - loss: 0.0034\n",
      "Epoch 10/20\n",
      "85/85 [==============================] - 49s 582ms/step - loss: 0.0032\n",
      "Epoch 11/20\n",
      "85/85 [==============================] - 49s 571ms/step - loss: 0.0029\n",
      "Epoch 12/20\n",
      "85/85 [==============================] - 48s 563ms/step - loss: 0.0026\n",
      "Epoch 13/20\n",
      "85/85 [==============================] - 57s 674ms/step - loss: 0.0026\n",
      "Epoch 14/20\n",
      "85/85 [==============================] - 53s 623ms/step - loss: 0.0025\n",
      "Epoch 15/20\n",
      "85/85 [==============================] - 51s 605ms/step - loss: 0.0023\n",
      "Epoch 16/20\n",
      "85/85 [==============================] - 39s 455ms/step - loss: 0.0021\n",
      "Epoch 17/20\n",
      "85/85 [==============================] - 36s 429ms/step - loss: 0.0021\n",
      "Epoch 18/20\n",
      "85/85 [==============================] - 41s 478ms/step - loss: 0.0020\n",
      "Epoch 19/20\n",
      "85/85 [==============================] - 39s 460ms/step - loss: 0.0019\n",
      "Epoch 20/20\n",
      "85/85 [==============================] - 30s 351ms/step - loss: 0.0018\n"
     ]
    },
    {
     "data": {
      "text/plain": [
       "<tensorflow.python.keras.callbacks.History at 0x13f4a7ac8>"
      ]
     },
     "execution_count": 22,
     "metadata": {},
     "output_type": "execute_result"
    }
   ],
   "source": [
    "# 模型编译\n",
    "model.compile(optimizer='rmsprop', loss='mse')\n",
    "\n",
    "# 模型训练\n",
    "model.fit(X_train, y_train, epochs=20, batch_size=32)"
   ]
  },
  {
   "cell_type": "markdown",
   "metadata": {},
   "source": [
    "### 构建数据集，进行预测"
   ]
  },
  {
   "cell_type": "code",
   "execution_count": 23,
   "metadata": {},
   "outputs": [],
   "source": [
    "dataset_total = pd.concat((dataset['High'][:\"2016\"], dataset['High'][\"2017\":]), axis=0)"
   ]
  },
  {
   "cell_type": "code",
   "execution_count": 24,
   "metadata": {},
   "outputs": [
    {
     "data": {
      "text/plain": [
       "(3020,)"
      ]
     },
     "execution_count": 24,
     "metadata": {},
     "output_type": "execute_result"
    }
   ],
   "source": [
    "dataset_total.shape"
   ]
  },
  {
   "cell_type": "code",
   "execution_count": 25,
   "metadata": {},
   "outputs": [
    {
     "data": {
      "text/plain": [
       "Date\n",
       "2006-01-03     82.55\n",
       "2006-01-04     82.50\n",
       "2006-01-05     82.90\n",
       "2006-01-06     85.03\n",
       "2006-01-09     84.25\n",
       "               ...  \n",
       "2017-12-22    153.00\n",
       "2017-12-26    153.86\n",
       "2017-12-27    153.18\n",
       "2017-12-28    154.12\n",
       "2017-12-29    154.72\n",
       "Name: High, Length: 3020, dtype: float64"
      ]
     },
     "execution_count": 25,
     "metadata": {},
     "output_type": "execute_result"
    }
   ],
   "source": [
    "dataset_total"
   ]
  },
  {
   "cell_type": "code",
   "execution_count": 26,
   "metadata": {},
   "outputs": [],
   "source": [
    "inputs = dataset_total[len(train_set):].values"
   ]
  },
  {
   "cell_type": "code",
   "execution_count": 28,
   "metadata": {},
   "outputs": [],
   "source": [
    "inputs = inputs.reshape(-1, 1)"
   ]
  },
  {
   "cell_type": "code",
   "execution_count": 29,
   "metadata": {},
   "outputs": [
    {
     "data": {
      "text/plain": [
       "(251, 1)"
      ]
     },
     "execution_count": 29,
     "metadata": {},
     "output_type": "execute_result"
    }
   ],
   "source": [
    "inputs.shape"
   ]
  },
  {
   "cell_type": "code",
   "execution_count": 30,
   "metadata": {},
   "outputs": [],
   "source": [
    "inputs_scaled = sc.fit_transform(inputs)"
   ]
  },
  {
   "cell_type": "markdown",
   "metadata": {},
   "source": [
    "### 构建测试集X_test, 进行估价预测"
   ]
  },
  {
   "cell_type": "code",
   "execution_count": 34,
   "metadata": {},
   "outputs": [],
   "source": [
    "dataset_total = pd.concat((dataset['High'][:\"2016\"], dataset['High'][\"2017\":]), axis=0)\n",
    "# 获取输入数据\n",
    "inputs = dataset_total[len(dataset_total) - len(test_set) - 60:].values"
   ]
  },
  {
   "cell_type": "code",
   "execution_count": 35,
   "metadata": {},
   "outputs": [
    {
     "data": {
      "text/plain": [
       "array([157.43, 157.7 , 158.49, 156.95, 154.97, 154.22, 155.53, 155.89,\n",
       "       151.  , 152.45, 152.9 , 151.15, 151.52, 151.16, 152.94, 154.06,\n",
       "       154.44, 154.33, 153.91, 153.34, 153.74, 153.64, 156.11, 155.93,\n",
       "       155.56, 161.16, 161.34, 161.86, 159.15, 159.55, 159.93, 160.72,\n",
       "       163.  , 163.  , 162.38, 163.19, 164.66, 164.41, 163.8 , 162.2 ,\n",
       "       160.29, 161.15, 160.79, 165.18, 166.  , 166.72, 166.79, 169.95,\n",
       "       169.89, 169.85, 169.11, 167.26, 168.25, 167.94, 168.23, 167.49,\n",
       "       167.98, 167.74, 166.99, 166.7 , 167.87, 169.87, 169.39, 169.92,\n",
       "       169.8 , 168.09, 167.76, 168.01, 168.48, 168.18, 168.59, 167.45,\n",
       "       170.64, 171.25, 176.  , 179.25, 178.88, 179.2 , 177.07, 175.58,\n",
       "       175.7 , 174.97, 176.34, 175.98, 178.62, 177.5 , 177.8 , 178.87,\n",
       "       179.9 , 180.13, 181.92, 182.79, 181.57, 180.79, 181.34, 182.5 ,\n",
       "       181.49, 181.25, 180.63, 182.55, 181.88, 181.32, 180.99, 181.29,\n",
       "       180.95, 179.25, 179.49, 178.06, 176.82, 176.28, 179.  , 176.79,\n",
       "       176.18, 176.23, 175.06, 175.67, 175.5 , 174.16, 175.  , 174.49,\n",
       "       174.59, 174.95, 174.87, 174.96, 176.33, 173.47, 172.93, 172.56,\n",
       "       171.23, 171.2 , 171.36, 171.3 , 171.69, 162.64, 162.4 , 162.11,\n",
       "       161.57, 162.04, 161.1 , 160.48, 160.59, 160.42, 159.49, 159.45,\n",
       "       159.14, 155.78, 153.47, 153.1 , 152.37, 151.15, 151.26, 151.83,\n",
       "       153.99, 154.14, 151.33, 152.46, 152.84, 153.68, 152.76, 153.73,\n",
       "       153.  , 152.67, 152.8 , 152.87, 153.2 , 152.93, 152.89, 154.2 ,\n",
       "       152.82, 154.26, 157.2 , 155.48, 154.94, 154.69, 155.42, 155.86,\n",
       "       155.39, 155.79, 154.99, 154.68, 155.75, 155.34, 155.55, 155.74,\n",
       "       154.5 , 156.02, 155.89, 153.83, 153.49, 153.89, 153.65, 154.24,\n",
       "       154.19, 154.62, 153.88, 154.29, 150.25, 148.83, 147.87, 147.04,\n",
       "       147.49, 146.46, 145.4 , 145.04, 144.93, 145.67, 145.29, 145.34,\n",
       "       145.39, 145.09, 142.76, 142.03, 142.42, 142.59, 142.76, 143.34,\n",
       "       142.91, 142.89, 141.15, 140.42, 141.15, 143.05, 143.68, 144.19,\n",
       "       144.56, 143.42, 143.28, 143.66, 144.5 , 144.36, 144.47, 144.64,\n",
       "       143.15, 145.13, 146.37, 146.29, 146.38, 145.17, 145.48, 144.98,\n",
       "       145.88, 145.89, 145.59, 146.03, 147.42, 146.9 , 145.86, 145.69,\n",
       "       146.86, 147.2 , 147.02, 147.54, 146.85, 147.79, 148.95, 148.47,\n",
       "       147.89, 147.85, 147.67, 147.12, 161.23, 160.96, 162.48, 162.51,\n",
       "       159.7 , 156.37, 155.12, 154.63, 154.59, 154.93, 154.9 , 154.49,\n",
       "       153.47, 151.82, 151.51, 151.79, 151.8 , 150.89, 149.  , 148.97,\n",
       "       148.7 , 149.65, 150.15, 151.95, 152.45, 152.39, 152.2 , 152.49,\n",
       "       152.93, 153.61, 154.41, 155.02, 156.8 , 156.74, 156.22, 154.45,\n",
       "       155.03, 155.89, 157.85, 156.73, 155.11, 153.8 , 154.18, 154.17,\n",
       "       153.89, 153.46, 153.  , 153.86, 153.18, 154.12, 154.72])"
      ]
     },
     "execution_count": 35,
     "metadata": {},
     "output_type": "execute_result"
    }
   ],
   "source": [
    "inputs"
   ]
  },
  {
   "cell_type": "code",
   "execution_count": 36,
   "metadata": {},
   "outputs": [],
   "source": [
    "# 归一化\n",
    "inputs = inputs.reshape(-1, 1)\n",
    "inputs = sc.transform(inputs)"
   ]
  },
  {
   "cell_type": "code",
   "execution_count": 37,
   "metadata": {},
   "outputs": [
    {
     "data": {
      "text/plain": [
       "(311, 1)"
      ]
     },
     "execution_count": 37,
     "metadata": {},
     "output_type": "execute_result"
    }
   ],
   "source": [
    "inputs.shape"
   ]
  },
  {
   "cell_type": "code",
   "execution_count": 38,
   "metadata": {},
   "outputs": [
    {
     "data": {
      "text/plain": [
       "(251, 60)"
      ]
     },
     "execution_count": 38,
     "metadata": {},
     "output_type": "execute_result"
    }
   ],
   "source": [
    "# 准备测试集X_test,进行股价预测\n",
    "X_test = []\n",
    "for i in range(60, 311):\n",
    "    X_test.append(inputs[i-60:i, 0])\n",
    "    \n",
    "X_test = np.array(X_test) # numpy 类型转换\n",
    "\n",
    "X_test.shape"
   ]
  },
  {
   "cell_type": "code",
   "execution_count": 39,
   "metadata": {},
   "outputs": [],
   "source": [
    "X_test = np.reshape(X_test, (X_test.shape[0], X_test.shape[1], 1))"
   ]
  },
  {
   "cell_type": "code",
   "execution_count": 40,
   "metadata": {},
   "outputs": [
    {
     "data": {
      "text/plain": [
       "(251, 60, 1)"
      ]
     },
     "execution_count": 40,
     "metadata": {},
     "output_type": "execute_result"
    }
   ],
   "source": [
    "X_test.shape"
   ]
  },
  {
   "cell_type": "code",
   "execution_count": 41,
   "metadata": {},
   "outputs": [],
   "source": [
    "predict_test = model.predict(X_test) # 预测"
   ]
  },
  {
   "cell_type": "code",
   "execution_count": 43,
   "metadata": {},
   "outputs": [
    {
     "data": {
      "text/plain": [
       "(251, 1)"
      ]
     },
     "execution_count": 43,
     "metadata": {},
     "output_type": "execute_result"
    }
   ],
   "source": [
    "predict_test.shape"
   ]
  },
  {
   "cell_type": "code",
   "execution_count": 46,
   "metadata": {},
   "outputs": [],
   "source": [
    "predict_stock_price = sc.inverse_transform(predict_test)"
   ]
  },
  {
   "cell_type": "code",
   "execution_count": 47,
   "metadata": {},
   "outputs": [
    {
     "data": {
      "text/plain": [
       "array([[168.57092],\n",
       "       [168.69382],\n",
       "       [169.65242],\n",
       "       [170.35161],\n",
       "       [170.84596],\n",
       "       [171.02237],\n",
       "       [170.4601 ],\n",
       "       [169.75737],\n",
       "       [169.38156],\n",
       "       [169.46404],\n",
       "       [169.58615],\n",
       "       [169.80162],\n",
       "       [169.56326],\n",
       "       [170.3292 ],\n",
       "       [171.34633],\n",
       "       [173.63313],\n",
       "       [176.39796],\n",
       "       [178.01892],\n",
       "       [178.7997 ],\n",
       "       [178.39485],\n",
       "       [177.41373],\n",
       "       [176.70485],\n",
       "       [176.20074],\n",
       "       [176.44489],\n",
       "       [176.7224 ],\n",
       "       [177.7209 ],\n",
       "       [178.14804],\n",
       "       [178.35118],\n",
       "       [178.69153],\n",
       "       [179.2505 ],\n",
       "       [179.73222],\n",
       "       [180.54192],\n",
       "       [181.35703],\n",
       "       [181.52586],\n",
       "       [181.26234],\n",
       "       [181.13414],\n",
       "       [181.43825],\n",
       "       [181.48216],\n",
       "       [181.40776],\n",
       "       [181.14082],\n",
       "       [181.47731],\n",
       "       [181.63916],\n",
       "       [181.57304],\n",
       "       [181.35866],\n",
       "       [181.26881],\n",
       "       [181.15274],\n",
       "       [180.60979],\n",
       "       [180.229  ],\n",
       "       [179.61096],\n",
       "       [178.8226 ],\n",
       "       [178.10707],\n",
       "       [178.48729],\n",
       "       [178.36404],\n",
       "       [177.97884],\n",
       "       [177.61253],\n",
       "       [177.02715],\n",
       "       [176.78099],\n",
       "       [176.66364],\n",
       "       [176.22221],\n",
       "       [176.09131],\n",
       "       [175.92331],\n",
       "       [175.84154],\n",
       "       [175.90877],\n",
       "       [175.96098],\n",
       "       [176.00768],\n",
       "       [176.449  ],\n",
       "       [175.94508],\n",
       "       [175.18893],\n",
       "       [174.49008],\n",
       "       [173.67642],\n",
       "       [173.12927],\n",
       "       [172.92116],\n",
       "       [172.87396],\n",
       "       [172.99628],\n",
       "       [170.17953],\n",
       "       [167.15663],\n",
       "       [165.01405],\n",
       "       [163.91484],\n",
       "       [163.76776],\n",
       "       [163.6057 ],\n",
       "       [163.13507],\n",
       "       [162.65553],\n",
       "       [162.2341 ],\n",
       "       [161.6113 ],\n",
       "       [161.08484],\n",
       "       [160.67245],\n",
       "       [159.21484],\n",
       "       [156.9592 ],\n",
       "       [155.07433],\n",
       "       [153.87259],\n",
       "       [152.9649 ],\n",
       "       [152.50293],\n",
       "       [152.58931],\n",
       "       [153.6519 ],\n",
       "       [154.7009 ],\n",
       "       [154.11124],\n",
       "       [153.36444],\n",
       "       [153.09293],\n",
       "       [153.50952],\n",
       "       [153.70473],\n",
       "       [154.04372],\n",
       "       [154.0589 ],\n",
       "       [153.77733],\n",
       "       [153.54225],\n",
       "       [153.47919],\n",
       "       [153.65302],\n",
       "       [153.75447],\n",
       "       [153.74376],\n",
       "       [154.19275],\n",
       "       [154.15392],\n",
       "       [154.41202],\n",
       "       [155.88713],\n",
       "       [156.63542],\n",
       "       [156.4632 ],\n",
       "       [155.88905],\n",
       "       [155.70816],\n",
       "       [156.0073 ],\n",
       "       [156.22282],\n",
       "       [156.44449],\n",
       "       [156.28789],\n",
       "       [155.90201],\n",
       "       [155.9977 ],\n",
       "       [156.14502],\n",
       "       [156.30386],\n",
       "       [156.47064],\n",
       "       [156.09981],\n",
       "       [156.20134],\n",
       "       [156.4732 ],\n",
       "       [155.90172],\n",
       "       [155.01607],\n",
       "       [154.54164],\n",
       "       [154.39381],\n",
       "       [154.65688],\n",
       "       [154.95782],\n",
       "       [155.27632],\n",
       "       [155.17393],\n",
       "       [155.05617],\n",
       "       [153.46149],\n",
       "       [151.21408],\n",
       "       [149.25975],\n",
       "       [147.98996],\n",
       "       [147.75139],\n",
       "       [147.66977],\n",
       "       [147.14934],\n",
       "       [146.41463],\n",
       "       [145.82574],\n",
       "       [145.83356],\n",
       "       [145.96149],\n",
       "       [146.02934],\n",
       "       [146.03226],\n",
       "       [145.87637],\n",
       "       [144.78073],\n",
       "       [143.34831],\n",
       "       [142.59723],\n",
       "       [142.67131],\n",
       "       [143.16772],\n",
       "       [143.82442],\n",
       "       [144.065  ],\n",
       "       [143.9292 ],\n",
       "       [142.9809 ],\n",
       "       [141.70554],\n",
       "       [141.16733],\n",
       "       [142.09755],\n",
       "       [143.61351],\n",
       "       [144.81558],\n",
       "       [145.4167 ],\n",
       "       [145.00787],\n",
       "       [144.20346],\n",
       "       [143.77094],\n",
       "       [144.11526],\n",
       "       [144.65796],\n",
       "       [145.05156],\n",
       "       [145.26265],\n",
       "       [144.71684],\n",
       "       [144.78493],\n",
       "       [145.74666],\n",
       "       [146.66196],\n",
       "       [147.10164],\n",
       "       [146.63922],\n",
       "       [146.05402],\n",
       "       [145.54695],\n",
       "       [145.67122],\n",
       "       [146.09807],\n",
       "       [146.3287 ],\n",
       "       [146.5093 ],\n",
       "       [147.1619 ],\n",
       "       [147.57924],\n",
       "       [147.22803],\n",
       "       [146.57109],\n",
       "       [146.56857],\n",
       "       [147.0931 ],\n",
       "       [147.5381 ],\n",
       "       [147.9157 ],\n",
       "       [147.84267],\n",
       "       [147.9378 ],\n",
       "       [148.5884 ],\n",
       "       [149.04544],\n",
       "       [148.93123],\n",
       "       [148.5793 ],\n",
       "       [148.23958],\n",
       "       [147.8603 ],\n",
       "       [153.34546],\n",
       "       [159.03114],\n",
       "       [162.38724],\n",
       "       [163.48921],\n",
       "       [162.34595],\n",
       "       [159.60977],\n",
       "       [156.8861 ],\n",
       "       [155.24345],\n",
       "       [154.87755],\n",
       "       [155.3737 ],\n",
       "       [155.96106],\n",
       "       [156.0956 ],\n",
       "       [155.51804],\n",
       "       [154.18182],\n",
       "       [152.88889],\n",
       "       [152.27704],\n",
       "       [152.24559],\n",
       "       [152.09206],\n",
       "       [151.14476],\n",
       "       [150.15446],\n",
       "       [149.49214],\n",
       "       [149.63142],\n",
       "       [150.27744],\n",
       "       [151.52524],\n",
       "       [152.68233],\n",
       "       [153.22227],\n",
       "       [153.1657 ],\n",
       "       [152.99945],\n",
       "       [153.0769 ],\n",
       "       [153.53824],\n",
       "       [154.31316],\n",
       "       [155.1472 ],\n",
       "       [156.34767],\n",
       "       [157.20833],\n",
       "       [157.35553],\n",
       "       [156.48387],\n",
       "       [155.76195],\n",
       "       [155.82649],\n",
       "       [157.01219],\n",
       "       [157.75613],\n",
       "       [157.32233],\n",
       "       [156.04929],\n",
       "       [155.09212],\n",
       "       [154.73506],\n",
       "       [154.68802],\n",
       "       [154.5936 ],\n",
       "       [154.30226],\n",
       "       [154.3495 ],\n",
       "       [154.2771 ],\n",
       "       [154.49394]], dtype=float32)"
      ]
     },
     "execution_count": 47,
     "metadata": {},
     "output_type": "execute_result"
    }
   ],
   "source": [
    "predict_stock_price"
   ]
  },
  {
   "cell_type": "code",
   "execution_count": 54,
   "metadata": {},
   "outputs": [
    {
     "data": {
      "image/png": "[encoded data removed]",
      "text/plain": [
       "<Figure size 432x288 with 1 Axes>"
      ]
     },
     "metadata": {
      "needs_background": "light"
     },
     "output_type": "display_data"
    }
   ],
   "source": [
    "# 绘制测试结果和预测结果\n",
    "\n",
    "plot_predictions(test_set, predict_stock_price)"
   ]
  },
  {
   "cell_type": "markdown",
   "metadata": {},
   "source": [
    "### 基于GRU实现股价预测"
   ]
  },
  {
   "cell_type": "code",
   "execution_count": 62,
   "metadata": {},
   "outputs": [],
   "source": [
    "model_gru = Sequential()"
   ]
  },
  {
   "cell_type": "code",
   "execution_count": 64,
   "metadata": {},
   "outputs": [],
   "source": [
    "model_gru.add(GRU(50, return_sequences=True, input_shape=(X_train.shape[1], 1), activation='tanh'))"
   ]
  },
  {
   "cell_type": "code",
   "execution_count": 66,
   "metadata": {},
   "outputs": [],
   "source": [
    "model_gru.add(Dropout(0.2))"
   ]
  },
  {
   "cell_type": "code",
   "execution_count": 69,
   "metadata": {},
   "outputs": [],
   "source": [
    "model_gru.add(GRU(50, activation='tanh'))"
   ]
  },
  {
   "cell_type": "code",
   "execution_count": 70,
   "metadata": {},
   "outputs": [],
   "source": [
    "model_gru.add(Dropout(0.2))"
   ]
  },
  {
   "cell_type": "code",
   "execution_count": 71,
   "metadata": {},
   "outputs": [],
   "source": [
    "model_gru.add(Dense(1))"
   ]
  },
  {
   "cell_type": "code",
   "execution_count": 72,
   "metadata": {},
   "outputs": [],
   "source": [
    "# 模型编译\n",
    "model_gru.compile(optimizer=SGD(lr=0.01, decay=1e-7, momentum=0.9), loss='mse')"
   ]
  },
  {
   "cell_type": "code",
   "execution_count": 73,
   "metadata": {},
   "outputs": [
    {
     "name": "stdout",
     "output_type": "stream",
     "text": [
      "Epoch 1/20\n",
      "85/85 [==============================] - 18s 209ms/step - loss: 0.0351\n",
      "Epoch 2/20\n",
      "85/85 [==============================] - 18s 217ms/step - loss: 0.0032\n",
      "Epoch 3/20\n",
      "85/85 [==============================] - 19s 224ms/step - loss: 0.0026\n",
      "Epoch 4/20\n",
      "85/85 [==============================] - 19s 225ms/step - loss: 0.0023\n",
      "Epoch 5/20\n",
      "85/85 [==============================] - 19s 221ms/step - loss: 0.0021\n",
      "Epoch 6/20\n",
      "85/85 [==============================] - 19s 225ms/step - loss: 0.0019\n",
      "Epoch 7/20\n",
      "85/85 [==============================] - 19s 226ms/step - loss: 0.0018\n",
      "Epoch 8/20\n",
      "85/85 [==============================] - 19s 223ms/step - loss: 0.0017\n",
      "Epoch 9/20\n",
      "85/85 [==============================] - 19s 229ms/step - loss: 0.0016\n",
      "Epoch 10/20\n",
      "85/85 [==============================] - 19s 227ms/step - loss: 0.0015\n",
      "Epoch 11/20\n",
      "85/85 [==============================] - 19s 226ms/step - loss: 0.0016\n",
      "Epoch 12/20\n",
      "85/85 [==============================] - 15s 177ms/step - loss: 0.0014\n",
      "Epoch 13/20\n",
      "85/85 [==============================] - 12s 139ms/step - loss: 0.0015\n",
      "Epoch 14/20\n",
      "85/85 [==============================] - 11s 134ms/step - loss: 0.0014\n",
      "Epoch 15/20\n",
      "85/85 [==============================] - 12s 138ms/step - loss: 0.0013\n",
      "Epoch 16/20\n",
      "85/85 [==============================] - 12s 138ms/step - loss: 0.0013\n",
      "Epoch 17/20\n",
      "85/85 [==============================] - 12s 137ms/step - loss: 0.0013\n",
      "Epoch 18/20\n",
      "85/85 [==============================] - 13s 150ms/step - loss: 0.0013\n",
      "Epoch 19/20\n",
      "85/85 [==============================] - 11s 135ms/step - loss: 0.0013\n",
      "Epoch 20/20\n",
      "85/85 [==============================] - 12s 139ms/step - loss: 0.0012\n"
     ]
    },
    {
     "data": {
      "text/plain": [
       "<tensorflow.python.keras.callbacks.History at 0x140e4feb8>"
      ]
     },
     "execution_count": 73,
     "metadata": {},
     "output_type": "execute_result"
    }
   ],
   "source": [
    "# 训练\n",
    "model_gru.fit(X_train, y_train, epochs=20, batch_size=32)"
   ]
  },
  {
   "cell_type": "code",
   "execution_count": 74,
   "metadata": {},
   "outputs": [],
   "source": [
    "# 准备测试集X_test,进行股价预测\n",
    "X_test = []\n",
    "for i in range(60, 311):\n",
    "    X_test.append(inputs[i-60:i, 0])\n",
    "    \n",
    "X_test = np.array(X_test) # numpy 类型转换\n",
    "\n",
    "X_test = np.reshape(X_test, (X_test.shape[0], X_test.shape[1], 1))"
   ]
  },
  {
   "cell_type": "code",
   "execution_count": 75,
   "metadata": {},
   "outputs": [],
   "source": [
    "GRU_predicted = model_gru.predict(X_test)"
   ]
  },
  {
   "cell_type": "code",
   "execution_count": 76,
   "metadata": {},
   "outputs": [],
   "source": [
    "GRU_predicted_stock_price = sc.inverse_transform(GRU_predicted)"
   ]
  },
  {
   "cell_type": "code",
   "execution_count": 77,
   "metadata": {},
   "outputs": [
    {
     "data": {
      "image/png": "[encoded data removed]",
      "text/plain": [
       "<Figure size 432x288 with 1 Axes>"
      ]
     },
     "metadata": {
      "needs_background": "light"
     },
     "output_type": "display_data"
    }
   ],
   "source": [
    "# 可视化\n",
    "plot_predictions(test_set, GRU_predicted_stock_price)"
   ]
  },
  {
   "cell_type": "code",
   "execution_count": null,
   "metadata": {},
   "outputs": [],
   "source": []
  }
 ],
 "metadata": {
  "kernelspec": {
   "display_name": "Python 3",
   "language": "python",
   "name": "python3"
  },
  "language_info": {
   "codemirror_mode": {
    "name": "ipython",
    "version": 3
   },
   "file_extension": ".py",
   "mimetype": "text/x-python",
   "name": "python",
   "nbconvert_exporter": "python",
   "pygments_lexer": "ipython3",
   "version": "3.7.3"
  }
 },
 "nbformat": 4,
 "nbformat_minor": 4
}
